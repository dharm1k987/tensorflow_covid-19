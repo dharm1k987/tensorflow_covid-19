{
 "cells": [
  {
   "cell_type": "markdown",
   "metadata": {},
   "source": [
    "# Download the Data"
   ]
  },
  {
   "cell_type": "code",
   "execution_count": 28,
   "metadata": {},
   "outputs": [
    {
     "name": "stdout",
     "output_type": "stream",
     "text": [
      "Downloading...\n",
      "Done downloading \n"
     ]
    },
    {
     "name": "stderr",
     "output_type": "stream",
     "text": [
      "  % Total    % Received % Xferd  Average Speed   Time    Time     Time  Current\n",
      "                                 Dload  Upload   Total   Spent    Left  Speed\n",
      "\n",
      "  0     0    0     0    0     0      0      0 --:--:-- --:--:-- --:--:--     0\n",
      "  7 65.4M    7 5102k    0     0  5102k      0  0:00:13 --:--:--  0:00:13 6155k\n",
      " 21 65.4M   21 14.1M    0     0  14.1M      0  0:00:04  0:00:01  0:00:03 7907k\n",
      " 34 65.4M   34 22.6M    0     0  11.3M      0  0:00:05  0:00:02  0:00:03 8211k\n",
      " 45 65.4M   45 29.5M    0     0   9.8M      0  0:00:06  0:00:03  0:00:03 7905k\n",
      " 60 65.4M   60 39.5M    0     0   9.8M      0  0:00:06  0:00:04  0:00:02 8382k\n",
      " 75 65.4M   75 49.6M    0     0   9.9M      0  0:00:06  0:00:05  0:00:01 9139k\n",
      " 89 65.4M   89 58.8M    0     0   9.8M      0  0:00:06  0:00:06 --:--:-- 9155k\n",
      "100 65.4M  100 65.4M    0     0  9571k      0  0:00:07  0:00:07 --:--:-- 9593k\n"
     ]
    }
   ],
   "source": [
    "!echo Downloading...\n",
    "!curl \\\n",
    "  https://storage.googleapis.com/mledu-datasets/cats_and_dogs_filtered.zip \\\n",
    "  -O && echo Done downloading || echo Error occurred"
   ]
  },
  {
   "cell_type": "code",
   "execution_count": 29,
   "metadata": {},
   "outputs": [
    {
     "name": "stdout",
     "output_type": "stream",
     "text": [
      "Cats vs. Dogs Prediction.ipynb\n",
      "cats_and_dogs_filtered\n",
      "cats_and_dogs_filtered.zip\n"
     ]
    }
   ],
   "source": [
    "!ls"
   ]
  },
  {
   "cell_type": "code",
   "execution_count": 30,
   "metadata": {},
   "outputs": [],
   "source": [
    "import os\n",
    "import zipfile\n",
    "\n",
    "# extract the zip file\n",
    "local_zip = './cats_and_dogs_filtered.zip'\n",
    "zip_ref = zipfile.ZipFile(local_zip, 'r')\n",
    "zip_ref.extractall('./')\n",
    "zip_ref.close()"
   ]
  },
  {
   "cell_type": "code",
   "execution_count": 31,
   "metadata": {},
   "outputs": [
    {
     "name": "stdout",
     "output_type": "stream",
     "text": [
      "Cats vs. Dogs Prediction.ipynb\n",
      "cats_and_dogs_filtered\n",
      "cats_and_dogs_filtered.zip\n"
     ]
    }
   ],
   "source": [
    "!ls"
   ]
  }
 ],
 "metadata": {
  "kernelspec": {
   "display_name": "Python 3",
   "language": "python",
   "name": "python3"
  },
  "language_info": {
   "codemirror_mode": {
    "name": "ipython",
    "version": 3
   },
   "file_extension": ".py",
   "mimetype": "text/x-python",
   "name": "python",
   "nbconvert_exporter": "python",
   "pygments_lexer": "ipython3",
   "version": "3.6.10"
  }
 },
 "nbformat": 4,
 "nbformat_minor": 4
}
