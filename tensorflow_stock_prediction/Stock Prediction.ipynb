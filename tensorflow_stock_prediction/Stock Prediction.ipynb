{
 "cells": [
  {
   "cell_type": "code",
   "execution_count": 19,
   "metadata": {},
   "outputs": [],
   "source": [
    "import tensorflow as tf\n",
    "import numpy as np\n",
    "import pandas as pd\n",
    "import matplotlib.pyplot as plt"
   ]
  },
  {
   "cell_type": "markdown",
   "metadata": {},
   "source": [
    "# Import Stock Dataset"
   ]
  },
  {
   "cell_type": "code",
   "execution_count": 20,
   "metadata": {},
   "outputs": [
    {
     "data": {
      "text/html": [
       "<div>\n",
       "<style scoped>\n",
       "    .dataframe tbody tr th:only-of-type {\n",
       "        vertical-align: middle;\n",
       "    }\n",
       "\n",
       "    .dataframe tbody tr th {\n",
       "        vertical-align: top;\n",
       "    }\n",
       "\n",
       "    .dataframe thead th {\n",
       "        text-align: right;\n",
       "    }\n",
       "</style>\n",
       "<table border=\"1\" class=\"dataframe\">\n",
       "  <thead>\n",
       "    <tr style=\"text-align: right;\">\n",
       "      <th></th>\n",
       "      <th>Date</th>\n",
       "      <th>Open</th>\n",
       "      <th>High</th>\n",
       "      <th>Low</th>\n",
       "      <th>Close</th>\n",
       "      <th>Adj Close</th>\n",
       "      <th>Volume</th>\n",
       "    </tr>\n",
       "  </thead>\n",
       "  <tbody>\n",
       "    <tr>\n",
       "      <th>0</th>\n",
       "      <td>2006-07-17</td>\n",
       "      <td>7.390000</td>\n",
       "      <td>7.587143</td>\n",
       "      <td>7.378572</td>\n",
       "      <td>7.481429</td>\n",
       "      <td>6.476653</td>\n",
       "      <td>256135600</td>\n",
       "    </tr>\n",
       "    <tr>\n",
       "      <th>1</th>\n",
       "      <td>2006-07-18</td>\n",
       "      <td>7.594285</td>\n",
       "      <td>7.692857</td>\n",
       "      <td>7.407143</td>\n",
       "      <td>7.557143</td>\n",
       "      <td>6.542199</td>\n",
       "      <td>250112100</td>\n",
       "    </tr>\n",
       "    <tr>\n",
       "      <th>2</th>\n",
       "      <td>2006-07-19</td>\n",
       "      <td>7.565714</td>\n",
       "      <td>7.868571</td>\n",
       "      <td>7.480000</td>\n",
       "      <td>7.728571</td>\n",
       "      <td>6.690604</td>\n",
       "      <td>347685800</td>\n",
       "    </tr>\n",
       "    <tr>\n",
       "      <th>3</th>\n",
       "      <td>2006-07-20</td>\n",
       "      <td>8.708571</td>\n",
       "      <td>8.798572</td>\n",
       "      <td>8.531428</td>\n",
       "      <td>8.642858</td>\n",
       "      <td>7.482098</td>\n",
       "      <td>493036600</td>\n",
       "    </tr>\n",
       "    <tr>\n",
       "      <th>4</th>\n",
       "      <td>2006-07-21</td>\n",
       "      <td>8.545714</td>\n",
       "      <td>8.735714</td>\n",
       "      <td>8.520000</td>\n",
       "      <td>8.674286</td>\n",
       "      <td>7.509306</td>\n",
       "      <td>222973100</td>\n",
       "    </tr>\n",
       "  </tbody>\n",
       "</table>\n",
       "</div>"
      ],
      "text/plain": [
       "         Date      Open      High       Low     Close  Adj Close     Volume\n",
       "0  2006-07-17  7.390000  7.587143  7.378572  7.481429   6.476653  256135600\n",
       "1  2006-07-18  7.594285  7.692857  7.407143  7.557143   6.542199  250112100\n",
       "2  2006-07-19  7.565714  7.868571  7.480000  7.728571   6.690604  347685800\n",
       "3  2006-07-20  8.708571  8.798572  8.531428  8.642858   7.482098  493036600\n",
       "4  2006-07-21  8.545714  8.735714  8.520000  8.674286   7.509306  222973100"
      ]
     },
     "execution_count": 20,
     "metadata": {},
     "output_type": "execute_result"
    }
   ],
   "source": [
    "# APPLE stock data from 2006-07-18 to 2020-07-18\n",
    "data = pd.read_csv('./AAPL.csv')\n",
    "data.head()"
   ]
  },
  {
   "cell_type": "code",
   "execution_count": 21,
   "metadata": {},
   "outputs": [
    {
     "data": {
      "text/plain": [
       "3525"
      ]
     },
     "execution_count": 21,
     "metadata": {},
     "output_type": "execute_result"
    }
   ],
   "source": [
    "# this many entries\n",
    "len(data['Date'])"
   ]
  },
  {
   "cell_type": "markdown",
   "metadata": {},
   "source": [
    "# Plot Data"
   ]
  },
  {
   "cell_type": "code",
   "execution_count": 22,
   "metadata": {},
   "outputs": [],
   "source": [
    "def plot_series(time, series, format=\"-\", start=0, end=None):\n",
    "    plt.plot(time[start:end], series[start:end], format)\n",
    "    plt.xlabel(\"Time since 2006-07-18\")\n",
    "    plt.ylabel(\"Closing Price\")\n",
    "    plt.grid(True)"
   ]
  },
  {
   "cell_type": "code",
   "execution_count": 23,
   "metadata": {},
   "outputs": [
    {
     "data": {
      "image/png": "[encoded data removed]",
      "text/plain": [
       "<Figure size 720x432 with 1 Axes>"
      ]
     },
     "metadata": {
      "needs_background": "light"
     },
     "output_type": "display_data"
    }
   ],
   "source": [
    "series = np.array(data['Close'])\n",
    "time = range(len(data['Date']))\n",
    "plt.figure(figsize=(10,6))\n",
    "plot_series(time, series)"
   ]
  }
 ],
 "metadata": {
  "kernelspec": {
   "display_name": "Python 3",
   "language": "python",
   "name": "python3"
  },
  "language_info": {
   "codemirror_mode": {
    "name": "ipython",
    "version": 3
   },
   "file_extension": ".py",
   "mimetype": "text/x-python",
   "name": "python",
   "nbconvert_exporter": "python",
   "pygments_lexer": "ipython3",
   "version": "3.6.10"
  }
 },
 "nbformat": 4,
 "nbformat_minor": 4
}
